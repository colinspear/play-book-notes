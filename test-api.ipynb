{
 "cells": [
  {
   "cell_type": "code",
   "execution_count": 17,
   "metadata": {},
   "outputs": [
    {
     "name": "stdout",
     "output_type": "stream",
     "text": [
      "{'installed': {'client_id': '1068193945951-4hshcuea1i7gqkddnnb1krlum96ub7j0.apps.googleusercontent.com', 'project_id': 'play-book-notes', 'auth_uri': 'https://accounts.google.com/o/oauth2/auth', 'token_uri': 'https://oauth2.googleapis.com/token', 'auth_provider_x509_cert_url': 'https://www.googleapis.com/oauth2/v1/certs', 'client_secret': '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', 'redirect_uris': ['urn:ietf:wg:oauth:2.0:oob', 'http://localhost']}}\n"
     ]
    }
   ],
   "source": [
    "import json\n",
    "\n",
    "with open(\"credentials.json\") as f:\n",
    "    credentials = json.load(f)\n",
    "\n",
    "print(credentials)"
   ]
  },
  {
   "cell_type": "code",
   "execution_count": 21,
   "metadata": {},
   "outputs": [],
   "source": [
    "# from google's quickstart guide (https://developers.google.com/docs/api/quickstart/python)\n",
    "\n",
    "from __future__ import print_function\n",
    "\n",
    "import os.path\n",
    "\n",
    "from google.auth.transport.requests import Request\n",
    "from google.oauth2.credentials import Credentials\n",
    "from google_auth_oauthlib.flow import InstalledAppFlow\n",
    "from googleapiclient.discovery import build\n",
    "from googleapiclient.errors import HttpError\n",
    "\n",
    "# If modifying these scopes, delete the file token.json.\n",
    "SCOPES = ['https://www.googleapis.com/auth/documents']\n",
    "\n",
    "# The ID of Triste Tropiques highlights/notes file.\n",
    "DOCUMENT_ID = '1D2t_rO7oBDzQ3b20iE2xHVi2v_RN_XmFW4lur-kyvgk'\n",
    "# sample doc\n",
    "# DOCUMENT_ID = '195j9eDD3ccgjQRttHhJPymLJUCOUjs-jmwTrekvdjFE'\n",
    "\n",
    "def print_title(DOCUMENT_ID):\n",
    "    \"\"\"Shows basic usage of the Docs API.\n",
    "    Prints the title of a sample document.\n",
    "    \"\"\"\n",
    "    creds = None\n",
    "    # The file token.json stores the user's access and refresh tokens, and is\n",
    "    # created automatically when the authorization flow completes for the first\n",
    "    # time.\n",
    "    if os.path.exists('token.json'):\n",
    "        creds = Credentials.from_authorized_user_file('token.json', SCOPES)\n",
    "    # If there are no (valid) credentials available, let the user log in.\n",
    "    if not creds or not creds.valid:\n",
    "        if creds and creds.expired and creds.refresh_token:\n",
    "            creds.refresh(Request())\n",
    "        else:\n",
    "            flow = InstalledAppFlow.from_client_secrets_file(\n",
    "                'credentials.json', SCOPES)\n",
    "            creds = flow.run_local_server(port=0)\n",
    "        # Save the credentials for the next run\n",
    "        with open('token.json', 'w') as token:\n",
    "            token.write(creds.to_json())\n",
    "\n",
    "    try:\n",
    "        service = build('docs', 'v1', credentials=creds)\n",
    "\n",
    "        # Retrieve the documents contents from the Docs service.\n",
    "        document = service.documents().get(documentId=DOCUMENT_ID).execute()\n",
    "\n",
    "        print('The title of the document is: {}'.format(document.get('title')))\n",
    "    except HttpError as err:\n",
    "        print(err)"
   ]
  },
  {
   "cell_type": "code",
   "execution_count": 22,
   "metadata": {},
   "outputs": [
    {
     "name": "stdout",
     "output_type": "stream",
     "text": [
      "The title of the document is: Notes from \"Tristes Tropiques\"\n"
     ]
    }
   ],
   "source": [
    "print_title(DOCUMENT_ID)"
   ]
  },
  {
   "cell_type": "code",
   "execution_count": 162,
   "metadata": {},
   "outputs": [
    {
     "data": {
      "text/plain": [
       "dict_keys(['title', 'body', 'documentStyle', 'namedStyles', 'revisionId', 'suggestionsViewMode', 'inlineObjects', 'documentId'])"
      ]
     },
     "execution_count": 162,
     "metadata": {},
     "output_type": "execute_result"
    }
   ],
   "source": [
    "document.keys()"
   ]
  },
  {
   "cell_type": "code",
   "execution_count": 37,
   "metadata": {},
   "outputs": [
    {
     "data": {
      "text/plain": [
       "{'objectId': 'i.30',\n",
       " 'inlineObjectProperties': {'embeddedObject': {'imageProperties': {'contentUri': 'https://lh4.googleusercontent.com/axHqcv4VYuM-F5wUDqayx9CdEa4zg0UuixIB_1vCyVyIWKpvO17STsziAaQZ1n6mOd5hptxt8Y7hf-fHp9vXvf6AySy71nKYt9m06H5cgmDJ962-cnj6kyMm14pffLNHJ6v_agXwI1pDY28DHQ',\n",
       "    'cropProperties': {}},\n",
       "   'embeddedObjectBorder': {'color': {'color': {'rgbColor': {}}},\n",
       "    'width': {'unit': 'PT'},\n",
       "    'dashStyle': 'SOLID',\n",
       "    'propertyState': 'NOT_RENDERED'},\n",
       "   'size': {'height': {'magnitude': 18, 'unit': 'PT'},\n",
       "    'width': {'magnitude': 24, 'unit': 'PT'}},\n",
       "   'marginTop': {'magnitude': 1.5, 'unit': 'PT'},\n",
       "   'marginBottom': {'magnitude': 1.5, 'unit': 'PT'},\n",
       "   'marginRight': {'magnitude': 1.5, 'unit': 'PT'},\n",
       "   'marginLeft': {'magnitude': 1.5, 'unit': 'PT'}}}}"
      ]
     },
     "execution_count": 37,
     "metadata": {},
     "output_type": "execute_result"
    }
   ],
   "source": [
    "document['inlineObjects']['i.30']\n",
    "# print([_ for _ in document['inlineObjects']])"
   ]
  },
  {
   "cell_type": "code",
   "execution_count": 156,
   "metadata": {},
   "outputs": [],
   "source": [
    "titles = []\n",
    "content = []\n",
    "for i in range(len(document['body']['content'])):\n",
    "    try:\n",
    "        _ = document['body']['content'][i]['paragraph']['elements'][0]['textRun']['content']\n",
    "        _ = _.strip('\\n')\n",
    "        if _:  \n",
    "            titles.append((i, _))\n",
    "    except KeyError:\n",
    "        pass\n",
    "\n",
    "    try:\n",
    "        _ = document['body']['content'][i]['table']['tableRows'][0]['tableCells'][0]['content'][1]['table']['tableRows'][0]['tableCells'][1]['content'][0]['paragraph']['elements'][0]['textRun']['content']\n",
    "        _ = _.strip('\\n')\n",
    "        if _:  \n",
    "            content.append((i, _))\n",
    "    except (KeyError, IndexError):\n",
    "        pass\n",
    "        "
   ]
  },
  {
   "cell_type": "code",
   "execution_count": 157,
   "metadata": {},
   "outputs": [
    {
     "data": {
      "text/plain": [
       "[(7, '47 notes/highlights • 1 bookmark'),\n",
       " (8, 'Created by Colin Spear '),\n",
       " (11, 'Part One. An End to Journeying'),\n",
       " (71, 'Part Two. Travel Notes'),\n",
       " (98, 'Part Three. The New World'),\n",
       " (149, 'Part Four. The Earth and its Inhabitants')]"
      ]
     },
     "execution_count": 157,
     "metadata": {},
     "output_type": "execute_result"
    }
   ],
   "source": [
    "titles"
   ]
  },
  {
   "cell_type": "code",
   "execution_count": 158,
   "metadata": {},
   "outputs": [
    {
     "data": {
      "text/plain": [
       "[(13,\n",
       "  'Adventure has no place in the anthropologist’s profession; it is merely one of those unavoidable drawbacks, which detract from his effective work through the incidental loss of weeks or months; there are hours of inaction when the informant is not available; periods of hunger, exhaustion, sickness perhaps; and always the'),\n",
       " (16,\n",
       "  'thousand and one dreary tasks which eat away the days to no purpose and reduce dangerous living in the heart of the virgin forest to an imitation of military service …'),\n",
       " (19,\n",
       "  'The fact that so much effort and expenditure has to be wasted on reaching the object of our studies bestows no value on that aspect of our profession, and should be seen rather as its negative side'),\n",
       " (22, 'There was not much to be learned from'),\n",
       " (25,\n",
       "  'his lectures; he never prepared them, since he was aware of the physical charm exercised over his audience by the expressive movements of his lips, which were twisted in a constantly flickering grin, and above all by his voice, which was at once hoarse and melodious. It was a real siren’s voice, with strange inflections recalling not only his native Languedoc but, even more than any regional peculiarities, certain very archaic musical modes of spoken French, so that the voice and the face conjured up, in two different sense registers, the same single, rustic and incisive style – the style characteristic of those sixteenth-century humanists, who were simultaneously doctors and philosophers, and of whom he seemed to be, both physically and mentally, a descendant.'),\n",
       " (28,\n",
       "  'Strangely enough, the founding of São Paulo university, Georges Dumas’s greatest achievement, was to allow these'),\n",
       " (31,\n",
       "  'students of humbler origin to begin their social ascension by obtaining qualifications which opened the way to administrative posts. Consequently, our university mission helped to form a new elite which was to turn away from us to some extent because Dumas and, following him, the Quai d’Orsay refused to understand that this elite was our most valuable creation, even though it was trying to overthrow the feudal landlords, who had certainly made it possible for us to come to Brazil, but had done so partly so that we could give them a cultural front and partly so that we could provide them with entertainment'),\n",
       " (34,\n",
       "  'No doubt relationships between any two societies would be made easier if, through the use of some kind of grid, it were possible to establish a pattern of equivalences between the ways in which each society uses analogous human types to perform different social functions'),\n",
       " (37,\n",
       "  'Instead of simply arranging meetings on a professional basis, doctors with doctors, teachers with teachers and industrialists with industrialists, we might perhaps be led to see that there are more subtle correspondences between individuals and the parts they play.'),\n",
       " (40,\n",
       "  'The non-French passengers found themselves classed as enemies; those who were French were rudely denied this distinction, at the same time as they were accused of having abandoned their country in a cowardly fashion'),\n",
       " (43,\n",
       "  'Fortunately, at that time, every Brazilian official still had inside him a concealed anarchist, who was kept alive by the shreds of Voltaire and Anatole France which impregnated the national culture even in the depths of the bush.'),\n",
       " (46,\n",
       "  'The accidents of travel often produce ambiguities such as these. Because I spent my first weeks on United States soil in Puerto Rico, I was in future to find America in Spain. Just as, several years later, through visiting my first English university with a campus surrounded'),\n",
       " (49,\n",
       "  'by Neo-Gothic buildings at Dacca in Western Bengal, I now look upon Oxford as a kind of India that has succeeded in controlling the mud, the mildew and the ever-encroaching vegetation.'),\n",
       " (52,\n",
       "  'But today my nice F.B.I. inspector would not be so easily satisfied. Everywhere the atmosphere is becoming equally oppressive.'),\n",
       " (55,\n",
       "  'Now that the Polynesian islands have been smothered in concrete and turned into aircraft carriers solidly anchored in the southern seas, when the whole of Asia is beginning to look like a dingy suburb, when shanty-towns are spreading across Africa, when civil and military aircraft blight the primeval innocence of the American or Melanesian forests even before'),\n",
       " (58,\n",
       "  'destroying their virginity, what else can the socalled escapism of travelling do than confront us with the more unfortunate aspects of our history?'),\n",
       " (61,\n",
       "  'Our great Western civilization, which has created the marvels we now enjoy, has only succeeded in producing them at the cost of corresponding ills. The order and harmony of the Western world, its most famous achievement, and a laboratory in which structures of a complexity as yet unknown are being fashioned, demand the elimination of a prodigious mass of noxious by-products which now contaminate the globe. The first thing we see as we travel round the world is our own filth, thrown into the face of mankind.'),\n",
       " (64, 'Mankind has opted for monoculture;'),\n",
       " (67,\n",
       "  'And so I am caught within a circle from which there is no escape: the less human societies were able to communicate with each other and therefore to corrupt each other through contact, the less their respective emissaries were able to perceive the wealth and significance of their diversity'),\n",
       " (73,\n",
       "  'I have no aptitude for prudently cultivating a given field and gathering in the harvest year after year: I have a neolithic kind of intelligence. Like native bush fires, it sometimes sets unexplored areas alight; it may fertilize them and snatch a few crops from them, and then it moves on, leaving scorched earth in its wake.'),\n",
       " (76,\n",
       "  'Like mathematics or music, anthropology is one of the few genuine vocations'),\n",
       " (79,\n",
       "  'They taught me that the static oppositions around which we were advised to construct our philosophical essays and later our teaching – the rational and the irrational, the intellectual and the emotional, the logical and the pre-logical – amounted to no more than a gratuitous intellectual game. In the first place, beyond the rational there exists a more important and valid category – that of the meaningful, which is the highest mode of being of the rational,'),\n",
       " (82,\n",
       "  'Next, Freud’s work showed me that the oppositions did not really exist in this form, since it is precisely the most apparently emotional behaviour, the least rational procedures and so-called pre-logical manifestations which are at the same time the most meaningful.'),\n",
       " (85,\n",
       "  'Incidentally, Marx’s quality has nothing to do with whether or not he accurately foresaw certain historical developments. Following Rousseau, and in what I consider to be a definitive manner, Marx established that social science is no more founded on the basis of events than physics is founded on sense data: the object is to construct a model and to study its property and its different reactions in laboratory conditions in order later to apply the observations to the interpretation of'),\n",
       " (88,\n",
       "  'empirical happenings, which may be far removed from what had been forecast.'),\n",
       " (91, 'positivist tradition which is still very much alive in South America'),\n",
       " (94,\n",
       "  'However, the anthropological approach was still so foreign to me that I did not think of taking advantage of these opportunities. I have learned since then what a useful training in observation such short glimpses of a town, an area or a culture can provide and how – because of the intense concentration forced upon one by the brevity of the stay – one may even grasp certain features which, in other circumstances, might have long remained hidden.'),\n",
       " (100,\n",
       "  'And, when we got to the far side of the oceanic depths, would all the marvels seen by the old navigators still be there to greet us? When the latter travelled through these unexplored regions, they were less concerned with discovering a new world than with verifying the past of the old. They confirmed the existence of Adam and Ulysses.'),\n",
       " (103, 'All the replies were negative'),\n",
       " (106,\n",
       "  'The three mermaids’, he relates, ‘raised their bodies above the surface of the water and, although they were not as beautiful as they appear in pictures, their round faces were definitely human.’ T'),\n",
       " (109,\n",
       "  'In all such instances, the sixteenth-century consciousness was lacking in an element more important than knowledge: a quality indispensable to scientific thought. The men of that time were not sensitive to the harmonious arrangement of the universe'),\n",
       " (112,\n",
       "  'The mermaids and the sheep tree constitute something different from, and more than, just objective mistakes; on the intellectual level they are to be considered rather as lapses in taste; a defect in minds which, in spite of the great gifts and refinement they displayed in other fields, were deficient in powers of observation'),\n",
       " (115,\n",
       "  'The traveller approaching the New World is first conscious of it as a scent very different from the one suggested back in Paris by the connotations of the word Brazil, and difficult to describe to anyone who has not experienced it.'),\n",
       " (118, 'June 6, 2021'),\n",
       " (121,\n",
       "  'This impression of enormous size is peculiar to America, and can be felt everywhere, in town and country alike: I have experienced it along the coast and on the plateaux of central Brazil, in the Bolivian Andes and the Colorado Rockies, in the suburbs of Rio, the outskirts of Chicago and the streets of New York'),\n",
       " (124,\n",
       "  'The privileged position enjoyed by the French at that time on the Brazilian coast raises some curious problems. It dated back at least to the beginning of the century, a period marked by numerous French expeditions,'),\n",
       " (127,\n",
       "  'a large number of terms – ananas, manioc, tamandua, tapir, jaguar, sagouin, agouti, ara, caïman, toucan, coati, acajou , etc. – were taken over directly by French from the Indian dialects without first passing through the Iberian languages, there is perhaps some truth in the traditional Dieppe belief that Brazil was discovered by Jean Cousin'),\n",
       " (130,\n",
       "  'A handful of Frenchmen, after braving every imaginable danger in their attempt to escape from religious strife in France and establish a new community where Catholic and Protestant alike could live under a free and tolerant government, now'),\n",
       " (133,\n",
       "  'found themselves alone on a continent as unfamiliar as a different planet, knowing nothing of the geographical circumstances or the natives, incapable of growing food to keep themselves alive, stricken with sickness and disease and depending for all their needs on an extremely hostile community whose language they could not understand, and were caught in a trap of their own making. The Protestants tried to convert the Catholics, and vice versa. Instead of working for survival, they spent weeks in foolish discussions: How should the Last Supper be interpreted? Should the wine be diluted with water before consecration? The Eucharist and the question of baptism gave rise to veritable theological tournaments, after which Villegaignon was either converted or returned to his former'),\n",
       " (136,\n",
       "  'faith. Things came to such a pass that an emissary was dispatched to Europe to consult Calvin and ask him to settle the controversial issues. Meanwhile the disputes became even fiercer, and Villegaignon began to lose control of his faculties; Léry relates how his moods and outbreaks of severity could be predicted by the colour of his clothes. When, in the end, he turned against the Protestants and started to starve them out, the latter ceased to play any part in the life of the community and moved over to the mainland, where they formed an alliance with the Indians.'),\n",
       " (139, 'Not only does a journey transport us'),\n",
       " (142,\n",
       "  'over enormous distances, it also causes us to move a few degrees up or down in the social scale. It displaces us physically and also – for better or for worse – takes us out of our class context, so that the colour and flavour of certain places cannot be dissociated from the always unexpected social level on which we find ourselves in experiencing them.'),\n",
       " (145,\n",
       "  'The search for the exotic boils down to the collecting of earlier or later phases of a familiar pattern of development. The traveller is like an antiquary obliged, by the dearth of material, to abandon his collection of Negro art and to fall back on bargaining for quaint pieces of junk as he tours the flea markets of the inhabited world.'),\n",
       " (151,\n",
       "  'If, like the aesthete, fish divide perfumes into light and dark, and bees classify luminosity in terms of weight – darkness being heavy and brightness light – the work of the painter, the poet or the musician, like the myths and symbols of the savage, ought to be seen by us, if not as a superior form of knowledge, at least as the most fundamental and the only one really common to us all; scientific thought is merely the sharp point – more penetrating'),\n",
       " (154,\n",
       "  'because it has been whetted on the stone of fact, but at the cost of some loss of substance – and its effectiveness is to be explained by its power to pierce sufficiently deeply for the main body of the tool to follow the head.'),\n",
       " (157,\n",
       "  'in Moslem countries, the segregation of women is not so much a religious practice as a mark of bourgeois prestige, and the poorest members of the community are not even entitled to have a sex),'),\n",
       " (160,\n",
       "  'Each wing was in use almost before it was finished, since a room with board could be let at more per day than a woman worker earned in a month; in this way, the cost of building a luxury hotel could be regained in nine months'),\n",
       " (163,\n",
       "  'After the touch-down at Karachi, day dawns over the incomprehensible, lunar desert of Thar; then small groups of fields appear, still separated by long stretches of desert. As the light strengthens, the cultivated areas fuse together to form a continuous surface of pink and green tints, like the exquisite and faded colours of some very old tapestry, which has been worn threadbare by long use and tirelessly darned. This is India.')]"
      ]
     },
     "execution_count": 158,
     "metadata": {},
     "output_type": "execute_result"
    }
   ],
   "source": [
    "content"
   ]
  },
  {
   "cell_type": "code",
   "execution_count": 148,
   "metadata": {},
   "outputs": [
    {
     "data": {
      "text/plain": [
       "'Adventure has no place in the anthropologist’s profession; it is merely one of those unavoidable drawbacks, which detract from his effective work through the incidental loss of weeks or months; there are hours of inaction when the informant is not available; periods of hunger, exhaustion, sickness perhaps; and always the\\n'"
      ]
     },
     "execution_count": 148,
     "metadata": {},
     "output_type": "execute_result"
    }
   ],
   "source": [
    "_"
   ]
  },
  {
   "cell_type": "code",
   "execution_count": null,
   "metadata": {},
   "outputs": [],
   "source": []
  }
 ],
 "metadata": {
  "interpreter": {
   "hash": "b2d46f320c8d700b6f64093f2e3ee40c76ed116e2027d698f577749a1da03560"
  },
  "kernelspec": {
   "display_name": "Python 3.8.10 ('play-book-notes')",
   "language": "python",
   "name": "python3"
  },
  "language_info": {
   "codemirror_mode": {
    "name": "ipython",
    "version": 3
   },
   "file_extension": ".py",
   "mimetype": "text/x-python",
   "name": "python",
   "nbconvert_exporter": "python",
   "pygments_lexer": "ipython3",
   "version": "3.8.10"
  },
  "orig_nbformat": 4
 },
 "nbformat": 4,
 "nbformat_minor": 2
}
